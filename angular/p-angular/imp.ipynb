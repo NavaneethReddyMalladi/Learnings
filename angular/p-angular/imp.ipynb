{
 "cells": [
  {
   "cell_type": "markdown",
   "id": "83680cb9",
   "metadata": {},
   "source": [
    "*******Oninit********\n",
    "\n",
    "\n",
    "- In Angular, the OnInit interface is used to perform component initialization logic after the component’s inputs are set by Angular.\n",
    "\n",
    "\n",
    "- # ✅ Purpose of OnInit\n",
    "\n",
    "- It gives you a lifecycle hook called ngOnInit() that is called once when the component is initialized.\n",
    "\n",
    "\n",
    "# 📌 When to use OnInit?\n",
    "\n",
    "Use ngOnInit() for:\n",
    "\n",
    "    Fetching data from APIs when the component loads\n",
    "\n",
    "    Setting initial values for variables\n",
    "\n",
    "    Running setup code that depends on @Input() properties\n",
    "\n",
    "    Any startup logic that you don’t want to run in the constructor"
   ]
  }
 ],
 "metadata": {
  "language_info": {
   "name": "python"
  }
 },
 "nbformat": 4,
 "nbformat_minor": 5
}
