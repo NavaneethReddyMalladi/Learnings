{
 "cells": [
  {
   "cell_type": "markdown",
   "id": "82579a69",
   "metadata": {},
   "source": [
    "***********StandAlone Components********\n",
    "\n",
    "- we have 2 type of components\n",
    "        1. normal\n",
    "        2. standalone component\n",
    "- currently it is recommended to use standalone components\n",
    "\n",
    "# Why standalone compoent\n",
    "\n",
    "- make some process simple\n",
    "- NgModule is not requried\n",
    "- small bundle size\n",
    "- modularity,resuability and maintainaibility\n",
    "\n",
    "\n",
    "\n",
    "# to create a folder structure\n",
    "    [ng new my-app]\n",
    "# to create a component\n",
    "        [ng generate component roles]\n",
    "        [ng g c designation]\n",
    "\n"
   ]
  }
 ],
 "metadata": {
  "language_info": {
   "name": "python"
  }
 },
 "nbformat": 4,
 "nbformat_minor": 5
}
