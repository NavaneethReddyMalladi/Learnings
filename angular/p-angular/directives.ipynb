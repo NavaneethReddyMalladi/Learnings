{
 "cells": [
  {
   "cell_type": "markdown",
   "id": "9ccb4d8c",
   "metadata": {},
   "source": [
    "****************Directive*****************\n",
    "In Angular, directives are special instructions in the DOM that tell Angular to do something with a DOM element or component. They are a core feature of Angular and are used to manipulate the DOM, change appearance, behavior, or layout of elements.\n",
    "\n",
    "# Types: \n",
    "    1. structural\n",
    "    2. attribute\n",
    "\n",
    "# 1. structural\n",
    "    it is responsible to change the strucutre of the dom\n",
    "    [ngIf,ngFor]\n",
    "\n",
    "# 2. attribute\n",
    "used to add extra behaviour to the existing element\n",
    "    [ngClass,ngStyle]\n",
    "\n",
    "\n",
    "\n"
   ]
  }
 ],
 "metadata": {
  "language_info": {
   "name": "python"
  }
 },
 "nbformat": 4,
 "nbformat_minor": 5
}
