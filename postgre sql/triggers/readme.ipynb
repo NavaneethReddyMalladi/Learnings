{
 "cells": [
  {
   "cell_type": "code",
   "execution_count": null,
   "id": "80b61798",
   "metadata": {
    "vscode": {
     "languageId": "sql"
    }
   },
   "outputs": [],
   "source": [
    "CREATE FUNCTION trigger_fucn()\n",
    "RETURNS TRIGGER\n",
    "LANGUAGE PLPGSQL\n",
    "AS $$\n",
    "BEGIN\n",
    "---trigger logic\n",
    "END:\n",
    "$$"
   ]
  },
  {
   "cell_type": "code",
   "execution_count": null,
   "id": "565fa5ae",
   "metadata": {
    "vscode": {
     "languageId": "sql"
    }
   },
   "outputs": [],
   "source": [
    "CREATE TRIGGER trigger_name\n",
    "{BEFORE | AFTER} {event}     //BEFORE INSERT/BEFORE UPDATE/AFTER INSERT\n",
    " \n",
    "ON table_name\n",
    "   [FOR [Each]] {ROW | Statement}\n",
    "execute procedure trigger_func"
   ]
  },
  {
   "cell_type": "code",
   "execution_count": null,
   "id": "5e7cbf85",
   "metadata": {
    "vscode": {
     "languageId": "sql"
    }
   },
   "outputs": [],
   "source": [
    "drop trigger trigger_name ON table_name"
   ]
  },
  {
   "cell_type": "markdown",
   "id": "56c66044",
   "metadata": {},
   "source": [
    "when            event                row-level         stmt-level\n",
    "-------------------------------------------------------------------\n",
    "                insert/update/delete   tables           tables and views\n",
    "before           truncate                -                tables\n",
    " \n",
    "                insert/update/delete   tables           tables and views\n",
    "after           truncate                -                tables\n",
    " \n",
    "                insert/update/delete   views                 -\n",
    "instead of           truncate                -                   -"
   ]
  }
 ],
 "metadata": {
  "language_info": {
   "name": "python"
  }
 },
 "nbformat": 4,
 "nbformat_minor": 5
}
