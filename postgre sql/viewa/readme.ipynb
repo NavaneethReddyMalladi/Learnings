{
 "cells": [
  {
   "cell_type": "code",
   "execution_count": null,
   "id": "57563fd7",
   "metadata": {
    "vscode": {
     "languageId": "sql"
    }
   },
   "outputs": [],
   "source": [
    "CREATE VIEW employee_view AS\n",
    "SELECT id, name, salary\n",
    "FROM employees\n",
    "WHERE department = 'Sales';\n"
   ]
  },
  {
   "cell_type": "code",
   "execution_count": null,
   "id": "ff2e0823",
   "metadata": {
    "vscode": {
     "languageId": "sql"
    }
   },
   "outputs": [],
   "source": [
    "CREATE VIEW department_salary AS\n",
    "SELECT d.name AS department, AVG(e.salary) AS avg_salary\n",
    "FROM employees e\n",
    "JOIN departments d ON e.dept_id = d.id\n",
    "GROUP BY d.name;\n"
   ]
  },
  {
   "cell_type": "code",
   "execution_count": null,
   "id": "d4c02389",
   "metadata": {
    "vscode": {
     "languageId": "sql"
    }
   },
   "outputs": [],
   "source": [
    "CREATE VIEW active_employees AS\n",
    "SELECT id, name\n",
    "FROM employees\n",
    "WHERE active = true;\n",
    "\n",
    "\n",
    "\n",
    "-- later\n",
    "UPDATE active_employees SET name = 'John' WHERE id = 1;\n"
   ]
  },
  {
   "cell_type": "code",
   "execution_count": null,
   "id": "630a2fe2",
   "metadata": {
    "vscode": {
     "languageId": "sql"
    }
   },
   "outputs": [],
   "source": [
    "CREATE MATERIALIZED VIEW mv_sales_summary AS\n",
    "SELECT product_id, SUM(sales) AS total_sales\n",
    "FROM sales\n",
    "GROUP BY product_id;"
   ]
  },
  {
   "cell_type": "code",
   "execution_count": null,
   "id": "3a06782b",
   "metadata": {
    "vscode": {
     "languageId": "sql"
    }
   },
   "outputs": [],
   "source": [
    "REFRESH MATERIALIZED VIEW mv_sales_summary;"
   ]
  }
 ],
 "metadata": {
  "language_info": {
   "name": "python"
  }
 },
 "nbformat": 4,
 "nbformat_minor": 5
}
