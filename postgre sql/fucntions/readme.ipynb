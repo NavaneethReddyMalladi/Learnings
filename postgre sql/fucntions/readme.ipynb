{
 "cells": [
  {
   "cell_type": "code",
   "execution_count": null,
   "id": "b90b9bac",
   "metadata": {
    "vscode": {
     "languageId": "sql"
    }
   },
   "outputs": [],
   "source": [
    "CREATE OR REPLACE FUNCTION add_numbers(a INT, b INT)\n",
    "RETURNS INT AS $$\n",
    "BEGIN\n",
    "  RETURN a + b;\n",
    "END;\n",
    "$$ LANGUAGE plpgsql;\n"
   ]
  },
  {
   "cell_type": "code",
   "execution_count": null,
   "id": "9811d15c",
   "metadata": {
    "vscode": {
     "languageId": "sql"
    }
   },
   "outputs": [],
   "source": [
    "\n",
    "SELECT add_numbers(10, 5); \n"
   ]
  },
  {
   "cell_type": "code",
   "execution_count": null,
   "id": "5173c7ae",
   "metadata": {
    "vscode": {
     "languageId": "sql"
    }
   },
   "outputs": [],
   "source": [
    "CREATE OR REPLACE FUNCTION get_high_salary_employees(min_salary NUMERIC)\n",
    "RETURNS TABLE(emp_name TEXT, emp_salary NUMERIC) AS $$\n",
    "BEGIN\n",
    "  RETURN QUERY\n",
    "  SELECT name, salary FROM employees\n",
    "  WHERE salary > min_salary;\n",
    "END;\n",
    "$$ LANGUAGE plpgsql;\n"
   ]
  },
  {
   "cell_type": "code",
   "execution_count": null,
   "id": "d724a850",
   "metadata": {
    "vscode": {
     "languageId": "sql"
    }
   },
   "outputs": [],
   "source": [
    "SELECT * FROM get_high_salary_employees(50000);\n"
   ]
  },
  {
   "cell_type": "markdown",
   "id": "a7a6bdc0",
   "metadata": {},
   "source": []
  }
 ],
 "metadata": {
  "language_info": {
   "name": "python"
  }
 },
 "nbformat": 4,
 "nbformat_minor": 5
}
