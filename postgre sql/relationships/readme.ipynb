{
 "cells": [
  {
   "cell_type": "markdown",
   "id": "066129a6",
   "metadata": {},
   "source": [
    "**************Relationships********\n",
    "\n",
    "A relationship in a database defines how two or more tables are connected to each other based on common columns (keys)\n",
    "\n",
    "Building relations in tables helps to organize and link data across multiple tables.\n",
    "\n",
    "\n",
    "there are three main relation types:\n",
    "    1.one-to-one\n",
    "    2.one-to-many\n",
    "    3.many-to -many\n",
    "\n",
    "1.one-to-one(1:1) relation:\n",
    "        **Defination**:Each record in Table A is associated with one and only one record in Table B, and vice versa.\n",
    "        **or**\n",
    "        One row in Table A is related to only one row in Table B and vice versa.\n",
    "2.one-to-many(1:N)\n",
    "        **Defination**:One row in Table A can relate to many rows in Table B, but each row in Table B relates to only one row in Table A.\n",
    "3.many-to-many(m:m):\n",
    "        **Defination**:\n",
    "        Each record in Table A can be associated with multiple records in Table B, and vice versa.\n",
    "4.many-to-one(m:1):\n",
    "        Multiple records in table B can be associated with one record in table A.\n",
    "\n"
   ]
  },
  {
   "cell_type": "code",
   "execution_count": null,
   "id": "36df6a39",
   "metadata": {
    "vscode": {
     "languageId": "sql"
    }
   },
   "outputs": [],
   "source": [
    "CREATE TABLE users (\n",
    "  user_id SERIAL PRIMARY KEY,\n",
    "  username TEXT\n",
    ");\n",
    "\n",
    "CREATE TABLE user_profiles (\n",
    "  profile_id SERIAL PRIMARY KEY,\n",
    "  user_id INT UNIQUE REFERENCES users(user_id),\n",
    "  bio TEXT\n",
    ");\n",
    "\n",
    "\n",
    "\n",
    "\n",
    "\n",
    "-- one-to-many\n",
    "\n",
    "For example: Tables departments and employees, where each department can have multiple employees, but each employee belongs to one department.\n",
    "\n",
    "CREATE TABLE departments (\n",
    "    department_id INT PRIMARY KEY,\n",
    "    department_name VARCHAR(50));\n",
    "CREATE TABLE employees (\n",
    "    employee_id INT PRIMARY KEY,\n",
    "    employee_name VARCHAR(50),\n",
    "    department_id INT,\n",
    "    FOREIGN KEY (department_id) REFERENCES departments(department_id));\n",
    "\n",
    "--many-to-many\n",
    "    Example:\n",
    "\n",
    "    Students and Courses\n",
    "\n",
    "        A student can enroll in multiple courses\n",
    "\n",
    "        A course can have multiple students\n",
    "\n",
    "CREATE TABLE students (\n",
    "  student_id SERIAL PRIMARY KEY,\n",
    "  name TEXT\n",
    ");\n",
    "\n",
    "CREATE TABLE courses (\n",
    "  course_id SERIAL PRIMARY KEY,\n",
    "  title TEXT\n",
    ");\n",
    "\n",
    "-- Bridge table to connect students and courses\n",
    "CREATE TABLE student_courses (\n",
    "  student_id INT REFERENCES students(student_id),\n",
    "  course_id INT REFERENCES courses(course_id),\n",
    "  PRIMARY KEY(student_id, course_id)\n",
    ");\n",
    "\n",
    "\n",
    "\n",
    "--many-to-one:\n",
    "    Example: Table Teachers and Courses, many courses can be taught by single teacher.\n",
    "\n",
    "CREATE TABLE Teachers (\n",
    "    teacher_id INT PRIMARY KEY,\n",
    "    first_name VARCHAR(255),\n",
    "    last_name VARCHAR(255)\n",
    ");\n",
    "CREATE TABLE Courses (\n",
    "    course_id INT PRIMARY KEY,\n",
    "    course_name VARCHAR(255),\n",
    "    teacher_id INT,\n",
    "    FOREIGN KEY (teacher_id) REFERENCES Teachers(teacher_id)\n",
    ");\n",
    "\n",
    "\n"
   ]
  },
  {
   "cell_type": "markdown",
   "id": "62d95e6d",
   "metadata": {},
   "source": [
    "VSDV"
   ]
  },
  {
   "cell_type": "code",
   "execution_count": null,
   "id": "06f7cf12",
   "metadata": {
    "vscode": {
     "languageId": "sql"
    }
   },
   "outputs": [],
   "source": [
    "FEADS"
   ]
  }
 ],
 "metadata": {
  "language_info": {
   "name": "python"
  }
 },
 "nbformat": 4,
 "nbformat_minor": 5
}
