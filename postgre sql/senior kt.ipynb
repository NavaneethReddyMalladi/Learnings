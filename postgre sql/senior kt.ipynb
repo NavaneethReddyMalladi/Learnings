{
 "cells": [
  {
   "cell_type": "markdown",
   "id": "190b7671",
   "metadata": {},
   "source": [
    "COLLATE\n",
    "comments\n",
    "without\n",
    " \n",
    "\n",
    "\n",
    "\n",
    "\n",
    "\n",
    "\n",
    "\n",
    "\n",
    "\n",
    "\n",
    "\n",
    "\n",
    "\n",
    "\n",
    "\n",
    "\n"
   ]
  }
 ],
 "metadata": {
  "language_info": {
   "name": "python"
  }
 },
 "nbformat": 4,
 "nbformat_minor": 5
}
