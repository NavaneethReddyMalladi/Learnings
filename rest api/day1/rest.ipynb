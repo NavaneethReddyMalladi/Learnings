{
 "cells": [
  {
   "cell_type": "markdown",
   "id": "2ef67796",
   "metadata": {},
   "source": [
    "**Status Codes**\n",
    "\n",
    "* What are HTTP status codes?\n",
    "when a client sends a request to a server, the server responds with:\n",
    "\n",
    "   - the actual response data\n",
    "   - a **status code** that tells the result of the request\n",
    "\n",
    "\n",
    "# HTTP Status Code Categories\n",
    "\n",
    "There are 5 groups:\n",
    "  * 1xx - Informational\n",
    "  * 2xx - Success\n",
    "  * 3xx - Redirection\n",
    "  * 4xx - Client Error\n",
    "  * 5xx - Server Error\n",
    "\n",
    "#\n",
    "- **100 Continue**: Server says “OK, continue your request\n",
    "- **101 Switching** Protocols: Server is switching to another protocol\n",
    "\n",
    "#\n",
    "- **200 Ok** : successful request(get,put)\n",
    "- **201 created** : new resource created\n",
    "- **204 NO content** : sucess but no content to return\n",
    "\n",
    "\n",
    "#\n",
    "- **301 Moved Permanently** : resource removed to a new url\n",
    "- **302 Found(Temporary)**: Temporaty redirect\n",
    "- **304 Not Modified** : Client cached version is still valid\n",
    "\n",
    "#\n",
    "- **400 Bad Request**: Missing or invalid data from client\n",
    "-**401 Unauthorized**:\n",
    "- **403 Forbidden**: you are not allowd, even id authenticated\n",
    "- **404 Not Found**\n",
    "- **409  Conflict**: data conflit\n",
    "- **422 Unprocessable Entity** : Valid JSON, but semantically incorrect\n",
    "\n",
    "#\n",
    "- **500 Internal Server Error**\n",
    "- **502 Bad Gateway**\n",
    "- **503 Server Unavailable**\n",
    "- **504 Gateway Timeout**"
   ]
  }
 ],
 "metadata": {
  "language_info": {
   "name": "python"
  }
 },
 "nbformat": 4,
 "nbformat_minor": 5
}
