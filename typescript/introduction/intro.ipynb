{
 "cells": [
  {
   "cell_type": "markdown",
   "id": "f01c5a70",
   "metadata": {},
   "source": [
    "************Introduction***********\n",
    "# What is TypeScript?\n",
    "\n",
    "- TypeScript is a syntactic superset of JavaScript which adds static typing.\n",
    "\n",
    "- This basically means that TypeScript adds syntax on top of JavaScript, allowing developers to add types\n",
    "\n",
    "# Why should I use TypeScript?\n",
    "\n",
    "- JavaScript is a loosely typed language. It can be difficult to understand what types of data are being passed around in JavaScript.\n",
    "\n",
    "- In JavaScript, function parameters and variables don't have any information! So developers need to look at documentation, or guess based on the implementation.\n",
    "\n",
    "- TypeScript allows specifying the types of data being passed around within the code, and has the ability to report errors when the types don't match.\n",
    "\n",
    "1. Catches errors early (during development)\n",
    "\n",
    "2. Improves IDE experience with autocomplete & IntelliSense\n",
    "\n",
    "3. Makes code easier to read and maintain\n",
    "\n",
    "4. Helps teams scale large applications safely\n",
    "\n",
    "\n",
    "********TypeScript is transpiled into JavaScript using a compiler.*******\n",
    "\n",
    "# \n",
    "How TypeScript Extends JavaScript:\n",
    "Feature\t                            JavaScript      \tTypeScript\n",
    "Static Typing\t                    ❌ No\t            ✅ Yes\n",
    "Compile-time Checking\t            ❌ No\t            ✅ Yes\n",
    "Interfaces\t                        ❌ No\t            ✅ Yes\n",
    "Enums\t                            ❌ No\t            ✅ Yes\n",
    "Access Modifiers\t                ❌ No\t            ✅ Yes (public/private/protected)\n",
    "Advanced Tooling Support\t    Limited\tExcellent             (via VSCode, IntelliSense..)\n",
    "\n",
    "\n"
   ]
  }
 ],
 "metadata": {
  "language_info": {
   "name": "python"
  }
 },
 "nbformat": 4,
 "nbformat_minor": 5
}
