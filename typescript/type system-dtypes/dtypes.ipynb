{
 "cells": [
  {
   "cell_type": "markdown",
   "id": "6f6daa94",
   "metadata": {},
   "source": [
    "****************TypeScript Type System***************\n",
    "\n",
    "# TypeScript Primitive system\n",
    "1. String\n",
    "2. number\n",
    "3. boolean\n",
    "4. null and undefined\n",
    "\n",
    "# TypeScript Object Types\n",
    "\n",
    "1. Object Literals\n",
    "2. Interfaces\n",
    "\n",
    "# Arrays and Tupes\n",
    "\n",
    "1. Arrays\n",
    "2. Tuples\n",
    "\n",
    "# Advanced Types\n",
    "1. any\n",
    "2. unknown\n",
    "3. void\n",
    "4. never\n",
    "5. enums\n",
    "6. string enums\n",
    "\n",
    "# Combining types\n",
    "\n",
    "1.Union Types(|)\n",
    "2.intersection types(&)\n",
    "\n",
    "\n",
    "# Type Guards\n",
    "1. typeof\n",
    "2. in\n",
    "\n",
    "\n",
    "# Type Assertions\n",
    "\n",
    "1. Using as\n",
    "2. using angle-bracket syntac(only in .ts, not .tsx)\n",
    "\n",
    "\n",
    "<!-- 📌 Summary Table -->\n",
    "\n",
    "Feature\tSyntax                  / Example\n",
    "Primitive\t                           let name: string = \"Navaneeth\"\n",
    "Array\t                               let items: number[] = [1,2,3]\n",
    "Tuple\t                               [string, number] = [\"a\", 1]\n",
    "any\tlet                                x: any = 10;\n",
    "unknown\t                               let x: unknown = \"hello\"\n",
    "void\t                               function fn(): void {}\n",
    "never\t                               function fn(): never { throw Error(); }\n",
    "Union\t                               `let id: string\n",
    "Intersection\t                        type A = B & C\n",
    "Type Assertion\t                        val as string or <string>val\n",
    "Enum\t                                enum Role { Admin, User }\n"
   ]
  },
  {
   "cell_type": "code",
   "execution_count": null,
   "id": "76f397a8",
   "metadata": {
    "vscode": {
     "languageId": "plaintext"
    }
   },
   "outputs": [],
   "source": []
  }
 ],
 "metadata": {
  "kernelspec": {
   "display_name": "venv",
   "language": "python",
   "name": "python3"
  },
  "language_info": {
   "name": "python",
   "version": "3.10.12"
  }
 },
 "nbformat": 4,
 "nbformat_minor": 5
}
