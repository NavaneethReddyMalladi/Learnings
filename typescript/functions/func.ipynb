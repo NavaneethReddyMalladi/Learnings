{
 "cells": [
  {
   "cell_type": "markdown",
   "id": "50517c99",
   "metadata": {},
   "source": [
    "****************TypeScript Fucntions***********************\n",
    "\n",
    "- TypeScript has a specific syntax for typing function parameters and    return values.\n",
    "\n",
    "# Return Type\n",
    "\n",
    "- The type of the value returned by the function can be explicitly defined.\n",
    "\n",
    "- **note**:   If no return type is defined, TypeScript will attempt to infer it through the types of the variables or expressions returned\n",
    "\n",
    "# void return type\n",
    "\n",
    "- The type void can be used to indicate a function doesn't return any value.\n",
    "\n",
    "# parameters\n",
    "-  Function parameters are typed with a similar syntax as variable declarations.\n",
    "\n",
    "- **note**: If no parameter type is defined, TypeScript will default to using any, unless additional type information is available as shown in the Default Parameters and Type Alias sections below.\n",
    "\n",
    "# Optional Parameters\n",
    "\n",
    "- By default TypeScript will assume all parameters are required, but they can be explicitly marked as optional.\\\n",
    "\n",
    "\n",
    "# Default Parameters\n",
    "\n",
    "- For parameters with default values, the default value goes after the type annotation:\n",
    "\n",
    "\n",
    "\n",
    "\n",
    "\n",
    "\n",
    "\n",
    "\n",
    "\n",
    "\n"
   ]
  }
 ],
 "metadata": {
  "language_info": {
   "name": "python"
  }
 },
 "nbformat": 4,
 "nbformat_minor": 5
}
