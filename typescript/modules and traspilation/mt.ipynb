{
 "cells": [
  {
   "cell_type": "markdown",
   "id": "81748c7a",
   "metadata": {},
   "source": [
    "\n",
    "**********🔹 TypeScript Modules**********\n",
    "\n",
    "✅ What is a Module?\n",
    "\n",
    "A module in TypeScript is any file containing a top-level import or export. Modules help you split code into smaller, reusable pieces.\n",
    "✅ ES6 Modules vs. TypeScript Modules\n",
    "\n",
    "TypeScript supports ES6 module syntax, which includes:\n",
    "\n",
    "    export\n",
    "\n",
    "    import\n",
    "\n",
    "    default export\n",
    "\n",
    "    Note: TypeScript compiles these modules to CommonJS, AMD, UMD, or ES6 depending on the module setting in tsconfig.json."
   ]
  },
  {
   "cell_type": "markdown",
   "id": "068a41ad",
   "metadata": {},
   "source": [
    "Transpilation (TypeScript to JavaScript)\n",
    "✅ What is Transpilation?\n",
    "\n",
    "Transpilation is the process of converting TypeScript (.ts) into JavaScript (.js) using the tsc (TypeScript compiler).\n",
    "\n",
    "\n",
    "\n",
    "\n",
    "\n",
    "\n",
    "\n",
    "📌 Running the Compiler\n",
    "\n",
    "    Compile a single file:\n",
    "\n",
    "tsc main.ts\n",
    "\n",
    "    Initialize a tsconfig.json:\n",
    "\n",
    "tsc --init\n",
    "\n",
    "    Compile entire project:\n",
    "\n",
    "tsc\n",
    "\n",
    "\n",
    "\n",
    "\n",
    "# Example: Full Project Structure\n",
    "\n",
    "/project\n",
    "  /src\n",
    "    mathUtils.ts\n",
    "    main.ts\n",
    "  tsconfig.json\n"
   ]
  }
 ],
 "metadata": {
  "language_info": {
   "name": "python"
  }
 },
 "nbformat": 4,
 "nbformat_minor": 5
}
