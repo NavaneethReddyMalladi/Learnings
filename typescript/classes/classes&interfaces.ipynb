{
 "cells": [
  {
   "cell_type": "markdown",
   "id": "26f50e61",
   "metadata": {},
   "source": [
    "*****************TypeScript Classs and interfaces****************\n",
    "\n",
    "\n",
    "\n",
    "\n",
    "\n"
   ]
  },
  {
   "cell_type": "markdown",
   "id": "4a602e75",
   "metadata": {},
   "source": [
    "✳️ ******1. TypeScript Interfaces and Type Aliases*********\n",
    "\n",
    "# Interface\n",
    "- An interface in TypeScript defines the structure(or contract) if an object.it helps enforce shape and types.\n",
    "\n",
    "**Type Aliases**\n",
    "- type aliases allow defining types with a custom name\n",
    "\n",
    "- A type alias creartes a new name for any type  (primitive,union,intersection,ect)\n",
    "\n",
    "✅ Use interface for objects/classes.\n",
    "✅ Use type for unions, primitives, tuples, etc.\n",
    "\n",
    "# Extended Interface\n",
    "you can extned the interface to build on exsisting ones."
   ]
  },
  {
   "cell_type": "markdown",
   "id": "abf8a003",
   "metadata": {},
   "source": [
    "**************TypeScript Classes***************\n",
    "\n",
    "- TypeScript adds types and visibility modifiers to JavaScript classes.\n",
    " - class nam should start with capital (good practice)\n",
    "\n",
    "# Access Modifiers\n",
    "\n",
    "- typescript has 3 access modifiers:\n",
    "            . public (default) ::  accessible anywhere\n",
    "            . private :: accessible only inside the class\n",
    "            . protected :: accessed in classes and sub classes\n",
    "\n",
    "        \n"
   ]
  }
 ],
 "metadata": {
  "language_info": {
   "name": "python"
  }
 },
 "nbformat": 4,
 "nbformat_minor": 5
}
