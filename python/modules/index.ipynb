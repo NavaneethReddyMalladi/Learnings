{
 "cells": [
  {
   "cell_type": "markdown",
   "id": "a52f4092",
   "metadata": {},
   "source": [
    " <!-- 1. What is a Module in Python? -->\n",
    " A module is simply a Python file (.py) that contains functions, classes, and variables that you can use in another Python file.\n",
    "\n",
    "<!-- ✅ Benefits: -->\n",
    "\n",
    "    Code reusability\n",
    "\n",
    "    Better code organization\n",
    "\n",
    "    Easier maintenance\n",
    "\n",
    " <!-- Types of Modules -->\n",
    "\n",
    "    Built-in modules – Already included with Python (like math, random, datetime)\n",
    "\n",
    "    User-defined modules – Created by the user (like my_module.py)\n",
    "\n",
    "    Third-party modules – Installed via pip (like numpy, pandas)\n",
    "\n",
    "\n",
    "\n",
    "\n",
    " <!-- What is __name__ in Python? -->\n",
    "    Every Python file (module) has a built-in variable called __name__.\n",
    "\n",
    "    When a Python file is run directly, __name__ is set to \"__main__\".\n",
    "\n",
    "    When a Python file is imported as a module, __name__ is set to the module's name (i.e., the file name without .py).\n",
    "    \n",
    "\n",
    "\n",
    "-----to get clarity open a new two .py files and try to execute and see in the terminal as well.\n",
    "\n",
    "\n",
    "\n",
    "\n",
    "\n",
    "   \n"
   ]
  },
  {
   "cell_type": "code",
   "execution_count": null,
   "id": "6999a275",
   "metadata": {},
   "outputs": [
    {
     "name": "stdout",
     "output_type": "stream",
     "text": [
      "2.449489742783178\n",
      "5.0\n"
     ]
    }
   ],
   "source": [
    "# 2. Importing Modules\n",
    "# ✅ a) Importing an entire module:\n",
    "\n",
    "import math\n",
    "print(math.sqrt(6))"
   ]
  },
  {
   "cell_type": "code",
   "execution_count": 11,
   "id": "f1118061",
   "metadata": {},
   "outputs": [
    {
     "name": "stdout",
     "output_type": "stream",
     "text": [
      "5.0\n"
     ]
    }
   ],
   "source": [
    "# b) Importing specific functions or classes:\n",
    "from math import sqrt\n",
    "print(sqrt(25))\n"
   ]
  },
  {
   "cell_type": "code",
   "execution_count": 14,
   "id": "6910c861",
   "metadata": {},
   "outputs": [
    {
     "name": "stdout",
     "output_type": "stream",
     "text": [
      "2025-04-17 11:40:54.703186\n"
     ]
    }
   ],
   "source": [
    "#  c) Using alias for a module:\n",
    "import datetime as dt \n",
    "print(dt.datetime.now())"
   ]
  },
  {
   "cell_type": "code",
   "execution_count": 15,
   "id": "2e4b26f7",
   "metadata": {},
   "outputs": [
    {
     "name": "stdout",
     "output_type": "stream",
     "text": [
      "4.0\n",
      "120\n",
      "3.141592653589793\n",
      "5\n",
      "4\n"
     ]
    }
   ],
   "source": [
    "# 4. Built-in Modules in Python\n",
    "# ✅ math Module\n",
    "\n",
    "# Provides mathematical functions:\n",
    "\n",
    "import math\n",
    "\n",
    "print(math.sqrt(16))       # Square root\n",
    "print(math.factorial(5))   # Factorial\n",
    "print(math.pi)             # 3.14159...\n",
    "print(math.ceil(4.2))      # 5\n",
    "print(math.floor(4.8))   "
   ]
  },
  {
   "cell_type": "code",
   "execution_count": null,
   "id": "d76c4768",
   "metadata": {},
   "outputs": [],
   "source": [
    "# ✅ random Module\n",
    "\n",
    "# Used to generate random numbers:\n",
    "\n",
    "import random\n",
    "print(random.randint(1,20))   #genetate random number between range\n",
    "\n",
    "print(random.choice([\"a\",\"b\",\"c\"])) #random choice from a list\n",
    "\n",
    "print(random.random())   #float from 0 to 1\n",
    "\n",
    "list=[1,2,3,4]\n",
    "random.shuffle(list) #shifts the listsradomly\n",
    "print(list)"
   ]
  },
  {
   "cell_type": "code",
   "execution_count": null,
   "id": "d88ad432",
   "metadata": {},
   "outputs": [],
   "source": [
    "# ✅ datetime Module\n",
    "\n",
    "# Work with dates and times:\n",
    "\n",
    "import datetime\n",
    "\n",
    "print(datetime.datetime.now()) #prints the current date and time\n",
    "\n",
    "print(datetime.date.today()) #todays date\n",
    "\n",
    "dt = datetime.datetime(2025, 4, 17, 10, 30)\n",
    "print(dt.strftime(\"%Y-%m-%d %H:%M\"))  # Format date\n",
    "\n",
    "d1=datetime.datetime(2025,4,17)\n",
    "d2=datetime.datetime(2025,3,17)\n",
    "diff=d1-d2\n",
    "print(diff) #gives date and time\n",
    "print(diff.days) #gives only date  "
   ]
  }
 ],
 "metadata": {
  "kernelspec": {
   "display_name": "venv310",
   "language": "python",
   "name": "python3"
  },
  "language_info": {
   "codemirror_mode": {
    "name": "ipython",
    "version": 3
   },
   "file_extension": ".py",
   "mimetype": "text/x-python",
   "name": "python",
   "nbconvert_exporter": "python",
   "pygments_lexer": "ipython3",
   "version": "3.10.12"
  }
 },
 "nbformat": 4,
 "nbformat_minor": 5
}
