{
 "cells": [
  {
   "cell_type": "markdown",
   "id": "4cb85ece",
   "metadata": {},
   "source": [
    "**File handling in python\n",
    "- the file halding plays an important role when the \n",
    "    data need sto be stored permanently into the file.\n",
    "        A file is named location on disk to store related information. we canm access the stored information(non-volatile) after the program termination\n",
    "\n",
    "\n",
    "- file operations\n",
    "        -open  a file\n",
    "        - read or write\n",
    "        - close   a file\n",
    "\n",
    "\n",
    "<!-- opening a file -->\n",
    "python provides an open() fucntion that accepts two arguments,file name and access mode in which the file is accessed \n",
    "\n",
    "syntax:open(file_path,access_mode)\n",
    "ex:open(\"demole.txt\",\"r)\n",
    "\n",
    "<!-- -- there are four diff modes to open a file -->\n",
    "\n",
    "            \"r\"-Read-Default Value.Opens a file for reading ,error if the file does not exist\n",
    "                    ** after we open a file , we use the read() method to read its content\n",
    "\n",
    "                    for ex:\n",
    "                           file1=open(\"hello.txt\",\"r\")\n",
    "                           print(file1.read())\n",
    "\n",
    "                    ** readline()---reads the text line by line ,should always call with readline() to read the next line...\n",
    "\n",
    "            \"a\"-Append-opens a file for appending ,creates the file if the file not exists\n",
    "                ex:  it will add the text to existing text at end\n",
    "\n",
    "\n",
    "            \"w\"-Write-opens  a file for writing,create the file if it does not exists\n",
    "\n",
    "                ex:\n",
    "                    f=open(\"c:/users/navaneeth/onedrive/deskktopexample.txt\",\"w\")\n",
    "                    f.write(\"this is navaneeth reddy\")--it overrrides the text with current\n",
    "\n",
    "            \"x\"-Create- create the specified file, returns an error if the file exists\n",
    "                ex:  f=open(\"mufile.txt\",\"x\")   --creates a new file\n",
    "                        f=open(\"mylife.txt,\"w\")  --write somthing into new file\n",
    "                \n",
    "<!-- example -->\n",
    "            f=open(\"file.txt\",\"x\")\n",
    "            f=open(\"file.txt\",\"w)\n",
    "            f.write(\"welcome to python\")\n",
    "            f.close()\n",
    "            f=open(\"file.txt\",\"r')\n",
    "            print(f.read())\n",
    "\n",
    "\n",
    "\n",
    "\n",
    "\n",
    " \n"
   ]
  }
 ],
 "metadata": {
  "kernelspec": {
   "display_name": "venv310",
   "language": "python",
   "name": "python3"
  },
  "language_info": {
   "codemirror_mode": {
    "name": "ipython",
    "version": 3
   },
   "file_extension": ".py",
   "mimetype": "text/x-python",
   "name": "python",
   "nbconvert_exporter": "python",
   "pygments_lexer": "ipython3",
   "version": "3.10.12"
  }
 },
 "nbformat": 4,
 "nbformat_minor": 5
}
