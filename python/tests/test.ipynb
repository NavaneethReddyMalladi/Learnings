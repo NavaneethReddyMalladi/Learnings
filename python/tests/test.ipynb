{
 "cells": [
  {
   "cell_type": "markdown",
   "id": "f799bc6a",
   "metadata": {},
   "source": [
    "***************Writing Unit Tests with unittest or pytest**************\n",
    "\n",
    "**1.What is Unit Testing.**\n",
    "\n",
    "Unit Tesrting-Testing indiviual units of code (like fuctions,class,or method) in isloation.\n",
    "\n",
    "it ensures your small components are working correctly\n",
    "\n",
    "when you write tests, you can detect problems early **before deploying** you application.\n",
    "\n",
    "\n",
    "**Python's built-in unittest module**\n",
    "\n",
    "\n",
    "\n",
    "\n",
    "\n",
    "\n",
    "\n",
    "\n"
   ]
  }
 ],
 "metadata": {
  "language_info": {
   "name": "python"
  }
 },
 "nbformat": 4,
 "nbformat_minor": 5
}
