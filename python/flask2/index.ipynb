{
 "cells": [
  {
   "cell_type": "markdown",
   "id": "f92efacc",
   "metadata": {},
   "source": [
    "*****************Flask SQLAlcehmy************\n",
    "\n",
    "Flask-SQLAlchemy is the flask extension that adds support for SQLAlchemy to your application\n",
    "\n",
    "**what is orm(object realtion mapper)**\n",
    "Most programming language platforms are object oriented. Data in RDBMS servers on the other hand is stored as tables. Object relation mapping is a technique of mapping object parameters to the underlying RDBMS table structure. An ORM API provides methods to perform CRUD operations without having to write raw SQL statements.\n",
    "\n",
    "**step-1**- install Flask-SQLAlchemy extention\n",
    "``` pip install flask-Sqlalchemy```\n",
    "\n",
    "**step2** - you need to import sqlalchemy class from the module\n",
    "```from flask-sqlalchemy import SQLAlchemy```\n",
    "**step3** - Now create a Flask application object and set URI for the database to be used.\n",
    "\n",
    "app = Flask(__name__)\n",
    "app.config['SQLALCHEMY_DATABASE_URI'] = 'sqlite:///students.sqlite3' \n",
    "\n",
    "**Step 4** − Then create an object of SQLAlchemy class with application object as the parameter. This object contains helper functions for ORM operations. It also provides a parent Model class using which user defined models are declared. In the snippet below, a students model is created.\n",
    "\n",
    "db = SQLAlchemy(app)\n",
    "class students(db.Model):\n",
    "   id = db.Column('student_id', db.Integer, primary_key = True)\n",
    "   name = db.Column(db.String(100))\n",
    "   city = db.Column(db.String(50))  \n",
    "   addr = db.Column(db.String(200))\n",
    "   pin = db.Column(db.String(10))\n",
    "\n",
    "def __init__(self, name, city, addr,pin):\n",
    "   self.name = name\n",
    "   self.city = city\n",
    "   self.addr = addr\n",
    "   self.pin = pin\n",
    "\n",
    "**Step 5** − To create / use database mentioned in URI, run the create_all() method.\n",
    "\n",
    "db.create_all()\n",
    "\n",
    "\n",
    "\n"
   ]
  }
 ],
 "metadata": {
  "language_info": {
   "name": "python"
  }
 },
 "nbformat": 4,
 "nbformat_minor": 5
}
