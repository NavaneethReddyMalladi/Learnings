{
 "cells": [
  {
   "cell_type": "markdown",
   "id": "e61aa135",
   "metadata": {},
   "source": [
    "<!-- EXCEPTION HANDLING -->\n",
    "python exception handling handles errors that occer during the execution of a program.\n",
    "\n",
    "exception handling allows to respond to the error, instead of crashing the running program.\n",
    "\n",
    "it enables you to catch and manage erros, makingyour code more robust and user friendly.\n",
    "\n",
    "<!-- Difference between Exception and Error -->\n",
    "ERROR: Errors are serious issues that a program should not try to handle. They are usually problems in the code’s logic or configuration and need to be fixed by the programmer. \n",
    "\n",
    "Exception:Exceptions are less severe than errors and can be handled by the program. They occur due to situations like invalid input, missing files or network issues."
   ]
  },
  {
   "cell_type": "code",
   "execution_count": 13,
   "id": "45aec0d8",
   "metadata": {},
   "outputs": [
    {
     "name": "stdout",
     "output_type": "stream",
     "text": [
      "cant be dividible by zero\n",
      "hello\n"
     ]
    }
   ],
   "source": [
    "# using execptions it does not block the other code to execute\n",
    "n=10\n",
    "try:\n",
    "    print(n/0)\n",
    "except ZeroDivisionError:\n",
    "    print(\"cant be dividible by zero\")\n",
    "print(\"hello\")\n",
    "\n",
    "# Explanation: In this example, dividing number by 0 raises a ZeroDivisionError. The try block contains the code that might cause an exception and the except block handles the exception, printing an error message instead of stopping the program."
   ]
  },
  {
   "cell_type": "code",
   "execution_count": null,
   "id": "af7c5545",
   "metadata": {},
   "outputs": [],
   "source": [
    "# Difference between Exception and Error\n",
    "print(\"hello world\"  #error:syntax error\n",
    "      \n",
    "n=10\n",
    "res=n/0   #exception: ZeroDividionError"
   ]
  },
  {
   "cell_type": "code",
   "execution_count": null,
   "id": "e4f38dd3",
   "metadata": {},
   "outputs": [],
   "source": [
    "# Syntax:     Handing exception\n",
    "try:\n",
    "    # code that might raise an error\n",
    "except SomeException:\n",
    "    #code to handle the exception\n",
    "else:\n",
    "    #code to run if no exception occurs\n",
    "finally:\n",
    "    #code to run regardless of whether an exception occurs"
   ]
  },
  {
   "cell_type": "code",
   "execution_count": null,
   "id": "6d94e050",
   "metadata": {},
   "outputs": [],
   "source": [
    "n=10\n",
    "try:\n",
    "    print(n/0)\n",
    "except:\n",
    "    print(\"not executable\")\n",
    "else:\n",
    "    print(\"ok\")\n",
    "finally:\n",
    "    print(\"end\")\n"
   ]
  },
  {
   "cell_type": "markdown",
   "id": "72209200",
   "metadata": {},
   "source": [
    "<!-- Common Exceptions in Python -->\n",
    "\n",
    "Python has many built-in exceptions, each representing a specific error condition. Some common ones include:\n",
    "\n",
    "<!-- BaseException -->\n",
    "The base class for all built-in exceptions.\n",
    "\n",
    "<!-- Exception -->\n",
    "The base class for all non-exit exceptions.\n",
    "\n",
    "\n",
    "<!-- ArithmeticError\t -->\n",
    "Base class for all errors related to arithmetic operations.\n",
    "\n",
    "<!-- ZeroDivisionError -->\n",
    "Raised when a division or modulo operation is performed with zero as the divisor.\n",
    "\n",
    "<!-- OverflowError -->\n",
    "Raised when a numerical operation exceeds the maximum limit of a data type.\n",
    "\n",
    "<!-- FloatingPointError -->\n",
    "\tRaised when a floating-point operation fails.\n",
    "\n",
    "<!-- AssertionError -->\n",
    "\tRaised when an assert statement fails.\n",
    "\n",
    "<!-- AttributeError -->\n",
    "\tRaised when an attribute reference or assignment fails.\n",
    "\n",
    "<!-- IndexError -->\n",
    "\tRaised when a sequence subscript is out of range.\n",
    "\n",
    "<!-- KeyError -->\n",
    "\tRaised when a dictionary key is not found.\n",
    "\n",
    "<!-- MemoryError -->\n",
    "\tRaised when an operation runs out of memory.\n",
    "\n",
    "<!-- NameError -->\n",
    "\tRaised when a local or global name is not found.\n",
    "\n",
    "<!-- OSError -->\n",
    "\tRaised when a system-related operation (like file I/O) fails.\n",
    "\n",
    "<!-- TypeError -->\n",
    "\tRaised when an operation or function is applied to an object of inappropriate type.\n",
    "\n",
    "<!-- ValueError -->\n",
    "\tRaised when a function receives an argument of the right type but inappropriate value.\n",
    "\n",
    "<!-- ImportError -->\n",
    "\tRaised when an import statement has issues.\n",
    "\n",
    "<!-- ModuleNotFoundError -->\n",
    "\tRaised when a module cannot be found.\n",
    "\n",
    "\n"
   ]
  },
  {
   "cell_type": "code",
   "execution_count": null,
   "id": "0f320a9e",
   "metadata": {},
   "outputs": [],
   "source": [
    "# Catching Multiple Exceptions:  \n",
    "\n",
    "# We can catch multiple exceptions in a single block if we need to handle them in the same way or we can separate them if different types of exceptions require different handling\n",
    "\n",
    "a = [\"10\", \"twenty\", 30]  # Mixed list of integers and strings\n",
    "try:\n",
    "    total = int(a[0]) + int(a[1])  # 'twenty' cannot be converted to int\n",
    "    \n",
    "except (ValueError, TypeError) as e:\n",
    "    print(\"Error\", e)\n",
    "    \n",
    "except IndexError:\n",
    "    print(\"Index out of range.\")"
   ]
  },
  {
   "cell_type": "code",
   "execution_count": 23,
   "id": "e7680e69",
   "metadata": {},
   "outputs": [
    {
     "name": "stdout",
     "output_type": "stream",
     "text": [
      "age cannot be empty\n"
     ]
    }
   ],
   "source": [
    "# Raise an Exception\n",
    "\n",
    "# we raise an exception in python using raise keyword followed by an instance of the exception class we want to trigger\n",
    "\n",
    "# Basic Syntax:\n",
    "\n",
    "    # raise ExceptionType(“Error message”)\n",
    "\n",
    "def set(age):\n",
    "    if age<0:\n",
    "        raise ValueError(\"age cannot be empty\")\n",
    "    print(f\"age set to {age}\")\n",
    "\n",
    "try:\n",
    "    set(-5)\n",
    "except ValueError as e:\n",
    "    print(e)\n",
    "\n"
   ]
  },
  {
   "cell_type": "code",
   "execution_count": 36,
   "id": "25faff93",
   "metadata": {},
   "outputs": [
    {
     "name": "stdout",
     "output_type": "stream",
     "text": [
      "unsupported operand type(s) for /: 'int' and 'str'\n"
     ]
    }
   ],
   "source": [
    "try:\n",
    "    num = 5/\"5\"\n",
    "except Exception as e:\n",
    "    print(e)"
   ]
  },
  {
   "cell_type": "code",
   "execution_count": 42,
   "id": "8a0c065c",
   "metadata": {},
   "outputs": [
    {
     "name": "stdout",
     "output_type": "stream",
     "text": [
      "4\n",
      "11\n",
      "invalid number\n",
      "45\n",
      "Execution Completed\n"
     ]
    }
   ],
   "source": [
    "def addnumbers(a,b):\n",
    "    try:\n",
    "        return a+b\n",
    "    except TypeError:\n",
    "        return (\"invalid number\")\n",
    "    except NameError:\n",
    "        return (\"invalid number\")\n",
    "    except Exception as e:\n",
    "        return(e)\n",
    "    \n",
    "\n",
    "print(addnumbers(1,3))\n",
    "print(addnumbers(1,10))\n",
    "print(addnumbers(1,\"a\"))\n",
    "print(addnumbers(1,44))\n",
    "print(\"Execution Completed\")"
   ]
  },
  {
   "cell_type": "code",
   "execution_count": null,
   "id": "23cad339",
   "metadata": {},
   "outputs": [],
   "source": [
    "# raise\n",
    "# user defined error \n",
    "\n",
    "def addnumbers(a,b):\n",
    "    try:\n",
    "        if(isinstance(a,int) or isinstance(a,float) and isinstance(b,int) or isinstance(b,float)):\n",
    "            return (a+b )\n",
    "        else:\n",
    "            raise Exception(\"only int and float values are allowed\")\n",
    "    except Exception as e:\n",
    "        return e\n",
    "\n",
    "print(addnumbers(1,4))\n",
    "print(addnumbers(1,49))\n",
    "print(addnumbers(\"a\",\"b\"))\n",
    "print(addnumbers(1,44))\n",
    "print(\"completed execution\")"
   ]
  }
 ],
 "metadata": {
  "kernelspec": {
   "display_name": "venv310",
   "language": "python",
   "name": "python3"
  },
  "language_info": {
   "codemirror_mode": {
    "name": "ipython",
    "version": 3
   },
   "file_extension": ".py",
   "mimetype": "text/x-python",
   "name": "python",
   "nbconvert_exporter": "python",
   "pygments_lexer": "ipython3",
   "version": "3.10.12"
  }
 },
 "nbformat": 4,
 "nbformat_minor": 5
}
